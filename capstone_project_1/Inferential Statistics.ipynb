{
 "cells": [
  {
   "cell_type": "code",
   "execution_count": 38,
   "metadata": {},
   "outputs": [],
   "source": [
    "import pandas as pd\n",
    "import matplotlib.pyplot as plt\n",
    "%matplotlib inline\n",
    "import seaborn as sns\n",
    "import os\n",
    "import numpy as np \n",
    "sns.set()"
   ]
  },
  {
   "cell_type": "code",
   "execution_count": 41,
   "metadata": {},
   "outputs": [],
   "source": [
    "# get directory\n",
    "os.getcwd()\n",
    "os.chdir('C:\\\\Users\\\\Administrator\\\\PycharmProjects\\\\Pheonix Egg\\\\Wine Project')"
   ]
  },
  {
   "cell_type": "code",
   "execution_count": 45,
   "metadata": {},
   "outputs": [
    {
     "data": {
      "text/html": [
       "<div>\n",
       "<style scoped>\n",
       "    .dataframe tbody tr th:only-of-type {\n",
       "        vertical-align: middle;\n",
       "    }\n",
       "\n",
       "    .dataframe tbody tr th {\n",
       "        vertical-align: top;\n",
       "    }\n",
       "\n",
       "    .dataframe thead th {\n",
       "        text-align: right;\n",
       "    }\n",
       "</style>\n",
       "<table border=\"1\" class=\"dataframe\">\n",
       "  <thead>\n",
       "    <tr style=\"text-align: right;\">\n",
       "      <th></th>\n",
       "      <th>fixed acidity</th>\n",
       "      <th>volatile acidity</th>\n",
       "      <th>citric acid</th>\n",
       "      <th>residual sugar</th>\n",
       "      <th>chlorides</th>\n",
       "      <th>free sulfur dioxide</th>\n",
       "      <th>total sulfur dioxide</th>\n",
       "      <th>density</th>\n",
       "      <th>pH</th>\n",
       "      <th>sulphates</th>\n",
       "      <th>alcohol</th>\n",
       "      <th>quality</th>\n",
       "    </tr>\n",
       "  </thead>\n",
       "  <tbody>\n",
       "    <tr>\n",
       "      <th>0</th>\n",
       "      <td>7.4</td>\n",
       "      <td>0.70</td>\n",
       "      <td>0.00</td>\n",
       "      <td>1.9</td>\n",
       "      <td>0.076</td>\n",
       "      <td>11.0</td>\n",
       "      <td>34.0</td>\n",
       "      <td>0.9978</td>\n",
       "      <td>3.51</td>\n",
       "      <td>0.56</td>\n",
       "      <td>9.4</td>\n",
       "      <td>5</td>\n",
       "    </tr>\n",
       "    <tr>\n",
       "      <th>1</th>\n",
       "      <td>7.8</td>\n",
       "      <td>0.88</td>\n",
       "      <td>0.00</td>\n",
       "      <td>2.6</td>\n",
       "      <td>0.098</td>\n",
       "      <td>25.0</td>\n",
       "      <td>67.0</td>\n",
       "      <td>0.9968</td>\n",
       "      <td>3.20</td>\n",
       "      <td>0.68</td>\n",
       "      <td>9.8</td>\n",
       "      <td>5</td>\n",
       "    </tr>\n",
       "    <tr>\n",
       "      <th>2</th>\n",
       "      <td>7.8</td>\n",
       "      <td>0.76</td>\n",
       "      <td>0.04</td>\n",
       "      <td>2.3</td>\n",
       "      <td>0.092</td>\n",
       "      <td>15.0</td>\n",
       "      <td>54.0</td>\n",
       "      <td>0.9970</td>\n",
       "      <td>3.26</td>\n",
       "      <td>0.65</td>\n",
       "      <td>9.8</td>\n",
       "      <td>5</td>\n",
       "    </tr>\n",
       "    <tr>\n",
       "      <th>3</th>\n",
       "      <td>11.2</td>\n",
       "      <td>0.28</td>\n",
       "      <td>0.56</td>\n",
       "      <td>1.9</td>\n",
       "      <td>0.075</td>\n",
       "      <td>17.0</td>\n",
       "      <td>60.0</td>\n",
       "      <td>0.9980</td>\n",
       "      <td>3.16</td>\n",
       "      <td>0.58</td>\n",
       "      <td>9.8</td>\n",
       "      <td>6</td>\n",
       "    </tr>\n",
       "    <tr>\n",
       "      <th>4</th>\n",
       "      <td>7.4</td>\n",
       "      <td>0.70</td>\n",
       "      <td>0.00</td>\n",
       "      <td>1.9</td>\n",
       "      <td>0.076</td>\n",
       "      <td>11.0</td>\n",
       "      <td>34.0</td>\n",
       "      <td>0.9978</td>\n",
       "      <td>3.51</td>\n",
       "      <td>0.56</td>\n",
       "      <td>9.4</td>\n",
       "      <td>5</td>\n",
       "    </tr>\n",
       "  </tbody>\n",
       "</table>\n",
       "</div>"
      ],
      "text/plain": [
       "   fixed acidity  volatile acidity  citric acid  residual sugar  chlorides  \\\n",
       "0            7.4              0.70         0.00             1.9      0.076   \n",
       "1            7.8              0.88         0.00             2.6      0.098   \n",
       "2            7.8              0.76         0.04             2.3      0.092   \n",
       "3           11.2              0.28         0.56             1.9      0.075   \n",
       "4            7.4              0.70         0.00             1.9      0.076   \n",
       "\n",
       "   free sulfur dioxide  total sulfur dioxide  density    pH  sulphates  \\\n",
       "0                 11.0                  34.0   0.9978  3.51       0.56   \n",
       "1                 25.0                  67.0   0.9968  3.20       0.68   \n",
       "2                 15.0                  54.0   0.9970  3.26       0.65   \n",
       "3                 17.0                  60.0   0.9980  3.16       0.58   \n",
       "4                 11.0                  34.0   0.9978  3.51       0.56   \n",
       "\n",
       "   alcohol  quality  \n",
       "0      9.4        5  \n",
       "1      9.8        5  \n",
       "2      9.8        5  \n",
       "3      9.8        6  \n",
       "4      9.4        5  "
      ]
     },
     "execution_count": 45,
     "metadata": {},
     "output_type": "execute_result"
    }
   ],
   "source": [
    "#download data\n",
    "wine = pd.read_csv('winequality-red.csv')\n",
    "wine = wine.dropna()\n",
    "wine.head()"
   ]
  },
  {
   "cell_type": "code",
   "execution_count": 46,
   "metadata": {},
   "outputs": [
    {
     "data": {
      "image/png": "[encoded data removed]",
      "text/plain": [
       "<matplotlib.figure.Figure at 0x9d13aa51d0>"
      ]
     },
     "metadata": {},
     "output_type": "display_data"
    }
   ],
   "source": [
    "x=wine.quality.unique()\n",
    "y= wine.quality.value_counts()\n",
    "plt.bar(x,y)\n",
    "plt.show()"
   ]
  },
  {
   "cell_type": "code",
   "execution_count": 47,
   "metadata": {},
   "outputs": [
    {
     "data": {
      "text/html": [
       "<div>\n",
       "<style scoped>\n",
       "    .dataframe tbody tr th:only-of-type {\n",
       "        vertical-align: middle;\n",
       "    }\n",
       "\n",
       "    .dataframe tbody tr th {\n",
       "        vertical-align: top;\n",
       "    }\n",
       "\n",
       "    .dataframe thead th {\n",
       "        text-align: right;\n",
       "    }\n",
       "</style>\n",
       "<table border=\"1\" class=\"dataframe\">\n",
       "  <thead>\n",
       "    <tr style=\"text-align: right;\">\n",
       "      <th></th>\n",
       "      <th>fixed acidity</th>\n",
       "      <th>volatile acidity</th>\n",
       "      <th>citric acid</th>\n",
       "      <th>residual sugar</th>\n",
       "      <th>chlorides</th>\n",
       "      <th>free sulfur dioxide</th>\n",
       "      <th>total sulfur dioxide</th>\n",
       "      <th>density</th>\n",
       "      <th>pH</th>\n",
       "      <th>sulphates</th>\n",
       "      <th>alcohol</th>\n",
       "      <th>quality</th>\n",
       "      <th>rating</th>\n",
       "    </tr>\n",
       "  </thead>\n",
       "  <tbody>\n",
       "    <tr>\n",
       "      <th>0</th>\n",
       "      <td>7.4</td>\n",
       "      <td>0.70</td>\n",
       "      <td>0.00</td>\n",
       "      <td>1.9</td>\n",
       "      <td>0.076</td>\n",
       "      <td>11.0</td>\n",
       "      <td>34.0</td>\n",
       "      <td>0.9978</td>\n",
       "      <td>3.51</td>\n",
       "      <td>0.56</td>\n",
       "      <td>9.4</td>\n",
       "      <td>5</td>\n",
       "      <td>0.0</td>\n",
       "    </tr>\n",
       "    <tr>\n",
       "      <th>1</th>\n",
       "      <td>7.8</td>\n",
       "      <td>0.88</td>\n",
       "      <td>0.00</td>\n",
       "      <td>2.6</td>\n",
       "      <td>0.098</td>\n",
       "      <td>25.0</td>\n",
       "      <td>67.0</td>\n",
       "      <td>0.9968</td>\n",
       "      <td>3.20</td>\n",
       "      <td>0.68</td>\n",
       "      <td>9.8</td>\n",
       "      <td>5</td>\n",
       "      <td>0.0</td>\n",
       "    </tr>\n",
       "    <tr>\n",
       "      <th>2</th>\n",
       "      <td>7.8</td>\n",
       "      <td>0.76</td>\n",
       "      <td>0.04</td>\n",
       "      <td>2.3</td>\n",
       "      <td>0.092</td>\n",
       "      <td>15.0</td>\n",
       "      <td>54.0</td>\n",
       "      <td>0.9970</td>\n",
       "      <td>3.26</td>\n",
       "      <td>0.65</td>\n",
       "      <td>9.8</td>\n",
       "      <td>5</td>\n",
       "      <td>0.0</td>\n",
       "    </tr>\n",
       "    <tr>\n",
       "      <th>3</th>\n",
       "      <td>11.2</td>\n",
       "      <td>0.28</td>\n",
       "      <td>0.56</td>\n",
       "      <td>1.9</td>\n",
       "      <td>0.075</td>\n",
       "      <td>17.0</td>\n",
       "      <td>60.0</td>\n",
       "      <td>0.9980</td>\n",
       "      <td>3.16</td>\n",
       "      <td>0.58</td>\n",
       "      <td>9.8</td>\n",
       "      <td>6</td>\n",
       "      <td>1.0</td>\n",
       "    </tr>\n",
       "    <tr>\n",
       "      <th>4</th>\n",
       "      <td>7.4</td>\n",
       "      <td>0.70</td>\n",
       "      <td>0.00</td>\n",
       "      <td>1.9</td>\n",
       "      <td>0.076</td>\n",
       "      <td>11.0</td>\n",
       "      <td>34.0</td>\n",
       "      <td>0.9978</td>\n",
       "      <td>3.51</td>\n",
       "      <td>0.56</td>\n",
       "      <td>9.4</td>\n",
       "      <td>5</td>\n",
       "      <td>0.0</td>\n",
       "    </tr>\n",
       "  </tbody>\n",
       "</table>\n",
       "</div>"
      ],
      "text/plain": [
       "   fixed acidity  volatile acidity  citric acid  residual sugar  chlorides  \\\n",
       "0            7.4              0.70         0.00             1.9      0.076   \n",
       "1            7.8              0.88         0.00             2.6      0.098   \n",
       "2            7.8              0.76         0.04             2.3      0.092   \n",
       "3           11.2              0.28         0.56             1.9      0.075   \n",
       "4            7.4              0.70         0.00             1.9      0.076   \n",
       "\n",
       "   free sulfur dioxide  total sulfur dioxide  density    pH  sulphates  \\\n",
       "0                 11.0                  34.0   0.9978  3.51       0.56   \n",
       "1                 25.0                  67.0   0.9968  3.20       0.68   \n",
       "2                 15.0                  54.0   0.9970  3.26       0.65   \n",
       "3                 17.0                  60.0   0.9980  3.16       0.58   \n",
       "4                 11.0                  34.0   0.9978  3.51       0.56   \n",
       "\n",
       "   alcohol  quality  rating  \n",
       "0      9.4        5     0.0  \n",
       "1      9.8        5     0.0  \n",
       "2      9.8        5     0.0  \n",
       "3      9.8        6     1.0  \n",
       "4      9.4        5     0.0  "
      ]
     },
     "execution_count": 47,
     "metadata": {},
     "output_type": "execute_result"
    }
   ],
   "source": [
    "wine['rating'] = wine.quality[wine.quality >= 6]\n",
    "wine['rating'] = wine['rating'].replace((6,7,8),1)\n",
    "wine['rating'] = wine['rating'].replace(np.nan,0)\n",
    "wine.head()"
   ]
  },
  {
   "cell_type": "markdown",
   "metadata": {},
   "source": [
    "# Inferential Statistics \n",
    "After we create new variable 'Rating'. We seperate wine into two catagories which have more than 5 rating and which have less than 5.\n",
    "We will refer them as good wine and bad wine in the following procedure. Then, we try to run some test related to independence variables. \n",
    "The variables that have direct effect on rating are volatile acidity,citric acid,total sulfur dioxide,density,sulphates, and alcohol.\n",
    "Our test will be consist of two step : \n",
    "    * plotting ecdf of each group to see whether the distribution of each group (good wine, bad wine) is the same or not \n",
    "    * using bootstrapping method to test if there is any significant difference in mean of feature between bad wine and good wine \n"
   ]
  },
  {
   "cell_type": "code",
   "execution_count": 48,
   "metadata": {},
   "outputs": [],
   "source": [
    "def ecdf(data):\n",
    "    \"\"\"Compute ECDF for a one-dimensional array of measurements.\"\"\"\n",
    "    # Number of data points: n\n",
    "    n = len(data)\n",
    "    # x-data for the ECDF: x\n",
    "    x = np.sort(data)\n",
    "    # y-data for the ECDF: y\n",
    "    y = np.arange(1, n+1) / n\n",
    "    return x, y"
   ]
  },
  {
   "cell_type": "code",
   "execution_count": 49,
   "metadata": {},
   "outputs": [
    {
     "data": {
      "image/png": "[encoded data removed]",
      "text/plain": [
       "<matplotlib.figure.Figure at 0x9d1399f940>"
      ]
     },
     "metadata": {},
     "output_type": "display_data"
    },
    {
     "name": "stdout",
     "output_type": "stream",
     "text": [
      "p-value = 1.0\n"
     ]
    }
   ],
   "source": [
    "# test good wine and bad wine samples on volatile acidity \n",
    "good_wine = wine[wine.rating == 1]\n",
    "bad_wine = wine[wine.rating == 0]\n",
    "diff = np.mean(good_wine['volatile acidity'])-np.mean(bad_wine['volatile acidity'])\n",
    "x_1, y_1 = ecdf(good_wine['volatile acidity'])\n",
    "x_2, y_2 = ecdf(bad_wine['volatile acidity'])\n",
    "_ = plt.plot(x_1, y_1, marker='.', linestyle='none', color='red')\n",
    "_ = plt.plot(x_2, y_2, marker='.', linestyle='none', color='blue')\n",
    "plt.margins(0.02)\n",
    "_ = plt.xlabel('volatile acidity')\n",
    "_ = plt.ylabel('ECDF')\n",
    "_ = plt.legend(('good', 'bad'), loc='lower right')\n",
    "plt.show()\n",
    "\n",
    "def diff_of_means(data_1, data_2):\n",
    "    \"\"\"Difference in means of two arrays.\"\"\"\n",
    "    diff = np.mean(data_1)-np.mean(data_2)\n",
    "    return diff\n",
    "diff = diff_of_means(good_wine['volatile acidity'],bad_wine['volatile acidity'])\n",
    "bs_replicates = np.empty(10000)\n",
    "for i in range(10000):\n",
    "    bs_sample = np.random.choice(wine['volatile acidity'], size=len(wine['volatile acidity']))\n",
    "    bs_replicates[i] = diff_of_means(bs_sample[:len(good_wine['volatile acidity'])],\n",
    "                                     bs_sample[len(good_wine['volatile acidity']):])\n",
    "p = np.sum(bs_replicates >= diff) / 10000\n",
    "print('p-value =', p)"
   ]
  },
  {
   "cell_type": "code",
   "execution_count": 50,
   "metadata": {},
   "outputs": [
    {
     "data": {
      "image/png": "[encoded data removed]",
      "text/plain": [
       "<matplotlib.figure.Figure at 0x9d13ef40b8>"
      ]
     },
     "metadata": {},
     "output_type": "display_data"
    },
    {
     "name": "stdout",
     "output_type": "stream",
     "text": [
      "p-value = 0.0\n"
     ]
    }
   ],
   "source": [
    "# test good wine and bad wine samples on alcohol\n",
    "good_wine = wine[wine.rating == 1]\n",
    "bad_wine = wine[wine.rating == 0]\n",
    "diff = np.mean(good_wine['alcohol'])-np.mean(bad_wine['alcohol'])\n",
    "\n",
    "x_1, y_1 = ecdf(good_wine['alcohol'])\n",
    "x_2, y_2 = ecdf(bad_wine['alcohol'])\n",
    "_ = plt.plot(x_1, y_1, marker='.', linestyle='none', color='red')\n",
    "_ = plt.plot(x_2, y_2, marker='.', linestyle='none', color='blue')\n",
    "\n",
    "plt.margins(0.02)\n",
    "_ = plt.xlabel('alcohol')\n",
    "_ = plt.ylabel('ECDF')\n",
    "_ = plt.legend(('good', 'bad'), loc='lower right')\n",
    "plt.show()\n",
    "\n",
    "def diff_of_means(data_1, data_2):\n",
    "    \"\"\"Difference in means of two arrays.\"\"\"\n",
    "    diff = np.mean(data_1)-np.mean(data_2)\n",
    "    return diff\n",
    "diff = diff_of_means(good_wine['alcohol'],bad_wine['alcohol'])\n",
    "bs_replicates = np.empty(10000)\n",
    "for i in range(10000):\n",
    "    \n",
    "    bs_sample = np.random.choice(wine['alcohol'], size=len(wine['alcohol']))\n",
    "    \n",
    "    bs_replicates[i] = diff_of_means(bs_sample[:len(good_wine['alcohol'])],\n",
    "                                     bs_sample[len(good_wine['alcohol']):])\n",
    "\n",
    "p = np.sum(bs_replicates >= diff) / 10000\n",
    "print('p-value =', p)"
   ]
  },
  {
   "cell_type": "code",
   "execution_count": 51,
   "metadata": {},
   "outputs": [
    {
     "data": {
      "image/png": "[encoded data removed]",
      "text/plain": [
       "<matplotlib.figure.Figure at 0x9d1399f6a0>"
      ]
     },
     "metadata": {},
     "output_type": "display_data"
    },
    {
     "name": "stdout",
     "output_type": "stream",
     "text": [
      "p-value = 0.0\n"
     ]
    }
   ],
   "source": [
    "# test good wine and bad wine samples on citric acid \n",
    "good_wine = wine[wine.rating == 1]\n",
    "bad_wine = wine[wine.rating == 0]\n",
    "diff = np.mean(good_wine['citric acid'])-np.mean(bad_wine['citric acid'])\n",
    "\n",
    "x_1, y_1 = ecdf(good_wine['citric acid'])\n",
    "x_2, y_2 = ecdf(bad_wine['citric acid'])\n",
    "_ = plt.plot(x_1, y_1, marker='.', linestyle='none', color='red')\n",
    "_ = plt.plot(x_2, y_2, marker='.', linestyle='none', color='blue')\n",
    "\n",
    "plt.margins(0.02)\n",
    "_ = plt.xlabel('citric acid')\n",
    "_ = plt.ylabel('ECDF')\n",
    "_ = plt.legend(('good', 'bad'), loc='lower right')\n",
    "plt.show()\n",
    "\n",
    "def diff_of_means(data_1, data_2):\n",
    "    \"\"\"Difference in means of two arrays.\"\"\"\n",
    "    diff = np.mean(data_1)-np.mean(data_2)\n",
    "    return diff\n",
    "diff = diff_of_means(good_wine['citric acid'],bad_wine['citric acid'])\n",
    "bs_replicates = np.empty(10000)\n",
    "for i in range(10000):\n",
    "    \n",
    "    bs_sample = np.random.choice(wine['citric acid'], size=len(wine['citric acid']))\n",
    "    \n",
    "    bs_replicates[i] = diff_of_means(bs_sample[:len(good_wine['citric acid'])],\n",
    "                                     bs_sample[len(good_wine['citric acid']):])\n",
    "\n",
    "p = np.sum(bs_replicates >= diff) / 10000\n",
    "print('p-value =', p)"
   ]
  },
  {
   "cell_type": "code",
   "execution_count": 52,
   "metadata": {},
   "outputs": [
    {
     "data": {
      "image/png": "[encoded data removed]",
      "text/plain": [
       "<matplotlib.figure.Figure at 0x9d110b9d30>"
      ]
     },
     "metadata": {},
     "output_type": "display_data"
    },
    {
     "name": "stdout",
     "output_type": "stream",
     "text": [
      "p-value = 1.0\n"
     ]
    }
   ],
   "source": [
    "# test good wine and bad wine samples on total sulfur dioxide\n",
    "\n",
    "good_wine = wine[wine.rating == 1]\n",
    "bad_wine = wine[wine.rating == 0]\n",
    "diff = np.mean(good_wine['total sulfur dioxide'])-np.mean(bad_wine['total sulfur dioxide'])\n",
    "\n",
    "x_1, y_1 = ecdf(good_wine['total sulfur dioxide'])\n",
    "x_2, y_2 = ecdf(bad_wine['total sulfur dioxide'])\n",
    "_ = plt.plot(x_1, y_1, marker='.', linestyle='none', color='red')\n",
    "_ = plt.plot(x_2, y_2, marker='.', linestyle='none', color='blue')\n",
    "\n",
    "plt.margins(0.02)\n",
    "_ = plt.xlabel('total sulfur dioxide')\n",
    "_ = plt.ylabel('ECDF')\n",
    "_ = plt.legend(('good', 'bad'), loc='lower right')\n",
    "plt.show()\n",
    "\n",
    "\n",
    "def diff_of_means(data_1, data_2):\n",
    "    \"\"\"Difference in means of two arrays.\"\"\"\n",
    "    diff = np.mean(data_1)-np.mean(data_2)\n",
    "    return diff\n",
    "diff = diff_of_means(good_wine['total sulfur dioxide'],bad_wine['total sulfur dioxide'])\n",
    "bs_replicates = np.empty(10000)\n",
    "for i in range(10000):\n",
    "   \n",
    "    bs_sample = np.random.choice(wine['total sulfur dioxide'], size=len(wine['pH']))\n",
    "    \n",
    "    bs_replicates[i] = diff_of_means(bs_sample[:len(good_wine['total sulfur dioxide'])],\n",
    "                                     bs_sample[len(good_wine['total sulfur dioxide']):])\n",
    "\n",
    "p = np.sum(bs_replicates >= diff) / 10000\n",
    "print('p-value =', p)"
   ]
  },
  {
   "cell_type": "markdown",
   "metadata": {},
   "source": [
    "AS we can see from the results, all test that we conduct by using boothstraping method has significant result meaning that the mean of each feature of each group\n",
    "is statistically significant. However, we want to dig deeper on every feature.  "
   ]
  },
  {
   "cell_type": "markdown",
   "metadata": {},
   "source": [
    "# What is the result of testing mean of every feature of good wine abd bad wine? "
   ]
  },
  {
   "cell_type": "markdown",
   "metadata": {},
   "source": [
    "in this section, we will use t-test as we do not know the distribution of each feature. Moreover, it will be much faster and \n",
    "easier to use t-test to test on a lot of feature. "
   ]
  },
  {
   "cell_type": "code",
   "execution_count": 26,
   "metadata": {},
   "outputs": [
    {
     "name": "stdout",
     "output_type": "stream",
     "text": [
      "fixed acidity Ttest_indResult(statistic=3.429690129057006, pvalue=0.0006224652259994661)\n",
      "volatile acidity Ttest_indResult(statistic=-12.663112642586356, pvalue=1.0270784781602082e-34)\n",
      "citric acid Ttest_indResult(statistic=6.301952761680176, pvalue=3.966613371490847e-10)\n",
      "residual sugar Ttest_indResult(statistic=-0.08743750672371305, pvalue=0.9303367824350479)\n",
      "chlorides Ttest_indResult(statistic=-4.175824466776456, pvalue=3.203283265747779e-05)\n",
      "free sulfur dioxide Ttest_indResult(statistic=-2.5432543553431044, pvalue=0.011097105019784335)\n",
      "total sulfur dioxide Ttest_indResult(statistic=-8.766046924165353, pvalue=6.337983150190238e-18)\n",
      "density Ttest_indResult(statistic=-6.403466171052481, pvalue=2.098721635166707e-10)\n",
      "pH Ttest_indResult(statistic=0.17297062036867633, pvalue=0.8627006248387413)\n",
      "sulphates Ttest_indResult(statistic=7.888647833741197, pvalue=6.597118478126576e-15)\n",
      "alcohol Ttest_indResult(statistic=18.742690953986735, pvalue=1.8012380348945214e-69)\n",
      "quality Ttest_indResult(statistic=59.24050921487324, pvalue=0.0)\n",
      "rating Ttest_indResult(statistic=inf, pvalue=0.0)\n"
     ]
    }
   ],
   "source": [
    "from scipy import stats\n",
    "for column in wine.columns:  \n",
    "    diff_mean_results = stats.ttest_ind(good_wine[column],bad_wine[column],equal_var = False)\n",
    "    print(column , diff_mean_results)\n",
    "# only residual sugar, pH that fail to reject the test "
   ]
  },
  {
   "cell_type": "markdown",
   "metadata": {},
   "source": [
    "From the results, only residual suger and pH fail to reject the test which means that the difference in mean of thoes features \n",
    "is not statistically significant. To sum up, after using ecdf , bootstraping, and t-test, the difference of mean of features between good wine and bad wine \n",
    "is statistically significant. Only two variables (residual suger and pH) is not statistically significant. "
   ]
  }
 ],
 "metadata": {
  "kernelspec": {
   "display_name": "Python 3",
   "language": "python",
   "name": "python3"
  },
  "language_info": {
   "codemirror_mode": {
    "name": "ipython",
    "version": 3
   },
   "file_extension": ".py",
   "mimetype": "text/x-python",
   "name": "python",
   "nbconvert_exporter": "python",
   "pygments_lexer": "ipython3",
   "version": "3.6.4"
  }
 },
 "nbformat": 4,
 "nbformat_minor": 2
}
