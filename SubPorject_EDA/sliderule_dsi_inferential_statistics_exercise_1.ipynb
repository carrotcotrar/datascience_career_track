{
 "cells": [
  {
   "cell_type": "markdown",
   "metadata": {},
   "source": [
    "# What is the True Normal Human Body Temperature? \n",
    "\n",
    "#### Background\n",
    "\n",
    "The mean normal body temperature was held to be 37$^{\\circ}$C or 98.6$^{\\circ}$F for more than 120 years since it was first conceptualized and reported by Carl Wunderlich in a famous 1868 book. But, is this value statistically correct?"
   ]
  },
  {
   "cell_type": "markdown",
   "metadata": {},
   "source": [
    "<h3>Exercises</h3>\n",
    "\n",
    "<p>In this exercise, you will analyze a dataset of human body temperatures and employ the concepts of hypothesis testing, confidence intervals, and statistical significance.</p>\n",
    "\n",
    "<p>Answer the following questions <b>in this notebook below and submit to your Github account</b>.</p> \n",
    "\n",
    "<ol>\n",
    "<li>  Is the distribution of body temperatures normal? \n",
    "    <ul>\n",
    "    <li> Although this is not a requirement for the Central Limit Theorem to hold (read the introduction on Wikipedia's page about the CLT carefully: https://en.wikipedia.org/wiki/Central_limit_theorem), it gives us some peace of mind that the population may also be normally distributed if we assume that this sample is representative of the population.\n",
    "    <li> Think about the way you're going to check for the normality of the distribution. Graphical methods are usually used first, but there are also other ways: https://en.wikipedia.org/wiki/Normality_test\n",
    "    </ul>\n",
    "<li>  Is the sample size large? Are the observations independent?\n",
    "    <ul>\n",
    "    <li> Remember that this is a condition for the Central Limit Theorem, and hence the statistical tests we are using, to apply.\n",
    "    </ul>\n",
    "<li>  Is the true population mean really 98.6 degrees F?\n",
    "    <ul>\n",
    "    <li> First, try a bootstrap hypothesis test.\n",
    "    <li> Now, let's try frequentist statistical testing. Would you use a one-sample or two-sample test? Why?\n",
    "    <li> In this situation, is it appropriate to use the $t$ or $z$ statistic? \n",
    "    <li> Now try using the other test. How is the result be different? Why?\n",
    "    </ul>\n",
    "<li>  Draw a small sample of size 10 from the data and repeat both frequentist tests. \n",
    "    <ul>\n",
    "    <li> Which one is the correct one to use? \n",
    "    <li> What do you notice? What does this tell you about the difference in application of the $t$ and $z$ statistic?\n",
    "    </ul>\n",
    "<li>  At what temperature should we consider someone's temperature to be \"abnormal\"?\n",
    "    <ul>\n",
    "    <li> As in the previous example, try calculating everything using the boostrap approach, as well as the frequentist approach.\n",
    "    <li> Start by computing the margin of error and confidence interval. When calculating the confidence interval, keep in mind that you should use the appropriate formula for one draw, and not N draws.\n",
    "    </ul>\n",
    "<li>  Is there a significant difference between males and females in normal temperature?\n",
    "    <ul>\n",
    "    <li> What testing approach did you use and why?\n",
    "    <li> Write a story with your conclusion in the context of the original problem.\n",
    "    </ul>\n",
    "</ol>\n",
    "\n",
    "You can include written notes in notebook cells using Markdown: \n",
    "   - In the control panel at the top, choose Cell > Cell Type > Markdown\n",
    "   - Markdown syntax: http://nestacms.com/docs/creating-content/markdown-cheat-sheet\n",
    "\n",
    "#### Resources\n",
    "\n",
    "+ Information and data sources: http://www.amstat.org/publications/jse/datasets/normtemp.txt, http://www.amstat.org/publications/jse/jse_data_archive.htm\n",
    "+ Markdown syntax: http://nestacms.com/docs/creating-content/markdown-cheat-sheet\n",
    "\n",
    "****"
   ]
  },
  {
   "cell_type": "code",
   "execution_count": 49,
   "metadata": {},
   "outputs": [],
   "source": [
    "import pandas as pd\n",
    "\n",
    "df = pd.read_csv('data/human_body_temperature.csv')"
   ]
  },
  {
   "cell_type": "code",
   "execution_count": 50,
   "metadata": {},
   "outputs": [
    {
     "name": "stdout",
     "output_type": "stream",
     "text": [
      "   temperature gender  heart_rate\n",
      "0         99.3      F        68.0\n",
      "1         98.4      F        81.0\n",
      "2         97.8      M        73.0\n",
      "3         99.2      F        66.0\n",
      "4         98.0      F        73.0\n",
      "<class 'pandas.core.frame.DataFrame'>\n",
      "RangeIndex: 130 entries, 0 to 129\n",
      "Data columns (total 3 columns):\n",
      "temperature    130 non-null float64\n",
      "gender         130 non-null object\n",
      "heart_rate     130 non-null float64\n",
      "dtypes: float64(2), object(1)\n",
      "memory usage: 3.1+ KB\n"
     ]
    },
    {
     "data": {
      "text/plain": [
       "count    130.000000\n",
       "mean      73.761538\n",
       "std        7.062077\n",
       "min       57.000000\n",
       "25%       69.000000\n",
       "50%       74.000000\n",
       "75%       79.000000\n",
       "max       89.000000\n",
       "Name: heart_rate, dtype: float64"
      ]
     },
     "execution_count": 50,
     "metadata": {},
     "output_type": "execute_result"
    }
   ],
   "source": [
    "# checking dataframe\n",
    "print(df.head())\n",
    "df.info()\n",
    "df.temperature.describe()\n",
    "df.gender.describe()\n",
    "df.heart_rate.describe()"
   ]
  },
  {
   "cell_type": "code",
   "execution_count": 51,
   "metadata": {},
   "outputs": [],
   "source": [
    "#downloading packages\n",
    "import numpy as np \n",
    "import matplotlib.pyplot as plt\n",
    "import seaborn as sns"
   ]
  },
  {
   "cell_type": "code",
   "execution_count": 52,
   "metadata": {},
   "outputs": [
    {
     "data": {
      "image/png": "[encoded data removed]",
      "text/plain": [
       "<matplotlib.figure.Figure at 0x93d84afc88>"
      ]
     },
     "metadata": {},
     "output_type": "display_data"
    }
   ],
   "source": [
    "#plot pdf\n",
    "sns.set()\n",
    "_ = plt.hist(df.temperature, bins = 13, normed = True)\n",
    "_ = plt.xlabel('temperature (F)')\n",
    "_ = plt.ylabel('pdf')\n",
    "_ = plt.margins(0.01)\n",
    "plt.show()"
   ]
  },
  {
   "cell_type": "code",
   "execution_count": 53,
   "metadata": {},
   "outputs": [],
   "source": [
    "#making ECDF function to use\n",
    "def ecdf(data):\n",
    "    \"\"\"Compute ECDF for a one-dimensional array of measurements.\"\"\"\n",
    "    # Number of data points: n\n",
    "    n = len(data)\n",
    "    # x-data for the ECDF: x\n",
    "    x = np.sort(data)\n",
    "    # y-data for the ECDF: y\n",
    "    y = np.arange(1, n+1) / n\n",
    "    return x, y"
   ]
  },
  {
   "cell_type": "code",
   "execution_count": 54,
   "metadata": {},
   "outputs": [
    {
     "data": {
      "image/png": "[encoded data removed]",
      "text/plain": [
       "<matplotlib.figure.Figure at 0x93d4e73048>"
      ]
     },
     "metadata": {},
     "output_type": "display_data"
    }
   ],
   "source": [
    "#creating replica and show whether our actual data is normal distribution or not \n",
    "np.random.seed(42)\n",
    "mean = np.mean(df.temperature)\n",
    "std = np.std(df.temperature)\n",
    "samples = np.random.normal(mean, std, size = 10000)\n",
    "x_theor, y_theor = ecdf(samples)\n",
    "x, y = ecdf(df.temperature)\n",
    "_ = plt.plot(x_theor, y_theor)\n",
    "_ = plt.plot(x, y, marker='.', linestyle='none')\n",
    "plt.margins(0.02)\n",
    "_ = plt.xlabel('temperature')\n",
    "_ = plt.ylabel('CDF')\n",
    "plt.show()\n",
    "#the graph illustrates that body temperature could be normal distribution "
   ]
  },
  {
   "cell_type": "code",
   "execution_count": 55,
   "metadata": {},
   "outputs": [],
   "source": [
    "#data is big enough since we have 130 observations which is enough to use z-stat.\n",
    "#also, our sample should be independent because the temperature in human body has no relationship between each other. "
   ]
  },
  {
   "cell_type": "code",
   "execution_count": 56,
   "metadata": {},
   "outputs": [
    {
     "name": "stdout",
     "output_type": "stream",
     "text": [
      "p =  0.4969\n",
      "p =  0.5441\n"
     ]
    }
   ],
   "source": [
    "#try to use bootstrap replicates method to test hypothesis \n",
    "def bootstrap_replicate_1d(data, func):\n",
    "    return func(np.random.choice(data, size=len(data)))\n",
    "def draw_bs_reps(data, func, size=1):\n",
    "    \"\"\"Draw bootstrap replicates.\"\"\"\n",
    "    bs_replicates = np.empty(size)\n",
    "    for i in range(size):\n",
    "        bs_replicates[i] = bootstrap_replicate_1d(data,func)\n",
    "    return bs_replicates\n",
    "\n",
    "bs_replicates = draw_bs_reps(df.temperature, np.mean, 10000)\n",
    "p = np.sum(bs_replicates <= mean) / 10000\n",
    "print('p = ', p)\n",
    "# cannot reject H0, the mean test suggests that body temperature is normal distributed\n",
    "bs_replicates = draw_bs_reps(df.temperature, np.std, 10000)\n",
    "p = np.sum(bs_replicates <= std) / 10000\n",
    "print('p = ', p)\n",
    "# cannot reject H0, the std test also suggests that body temperature is normal distributed"
   ]
  },
  {
   "cell_type": "code",
   "execution_count": 57,
   "metadata": {},
   "outputs": [
    {
     "name": "stdout",
     "output_type": "stream",
     "text": [
      "0.48027041116080765\n",
      "0.31551756279274257\n"
     ]
    }
   ],
   "source": [
    "#using z stat bacause our sample is more than 30 observation\n",
    "z = (98.6 - mean)/(std)\n",
    "print(z)\n",
    "import scipy.stats as stats\n",
    "prob = 1 - stats.norm.cdf(z)\n",
    "print(prob)\n",
    "# reject h0 "
   ]
  },
  {
   "cell_type": "code",
   "execution_count": 58,
   "metadata": {},
   "outputs": [
    {
     "name": "stdout",
     "output_type": "stream",
     "text": [
      "0.481543412343067\n",
      "0.31506516665213347\n",
      "Ttest_1sampResult(statistic=-1.444630237029201, pvalue=0.18246001075134266)\n"
     ]
    }
   ],
   "source": [
    "# draw 10 samples fromthe data\n",
    "small = np.random.choice(df.temperature, 10)\n",
    "small\n",
    "z_small = (98.6 - np.mean(small))/(np.std(small))\n",
    "print(z_small)\n",
    "prob = 1 - stats.norm.cdf(z_small)\n",
    "print(prob)\n",
    "#we should try t-test since our observation is quite smalll \n",
    "from scipy import stats\n",
    "onesample_results = stats.ttest_1samp(small, 98.6)\n",
    "print(onesample_results)"
   ]
  },
  {
   "cell_type": "code",
   "execution_count": 62,
   "metadata": {},
   "outputs": [
    {
     "name": "stdout",
     "output_type": "stream",
     "text": [
      "[100.03150125  97.16849875]\n",
      "[96.7225 99.4775]\n",
      "[98.12230769 98.37309615]\n",
      "95 % interval of lower bound is [96.4 97.1]\n",
      "95 % interval of upper bound is [ 99.2 100. ]\n"
     ]
    }
   ],
   "source": [
    "#using z_stat to get 95 % confidence interval \n",
    "interval = 98.6 - (np.array([-1.96,1.96])*std)\n",
    "print(interval)\n",
    "print(np.percentile(df.temperature,[2.5,97.5]))\n",
    "# trying to use bs replicates\n",
    "def bootstrap_replicate_low(data, size=1):\n",
    "    low = np.empty(size)\n",
    "    for i in range(size):\n",
    "        low[i] = np.percentile(np.random.choice(data, size=len(data)),2.5)\n",
    "    return low\n",
    "low = bootstrap_replicate_low(df.temperature,10000)\n",
    "low_95 = np.percentile(low,[2.5,97.5])\n",
    "print('95 % interval of lower bound is',low_95)\n",
    "def bootstrap_replicate_high(data, size=1):\n",
    "    high = np.empty(size)\n",
    "    for i in range(size):\n",
    "        high[i] = np.percentile(np.random.choice(data, size=len(data)),97.5)\n",
    "    return high\n",
    "high = bootstrap_replicate_high(df.temperature,10000)\n",
    "high_95 = np.percentile(high,[2.5,97.5])\n",
    "print('95 % interval of upper bound is',high_95)"
   ]
  },
  {
   "cell_type": "code",
   "execution_count": 69,
   "metadata": {},
   "outputs": [
    {
     "data": {
      "image/png": "[encoded data removed]",
      "text/plain": [
       "<matplotlib.figure.Figure at 0x93d8ec2978>"
      ]
     },
     "metadata": {},
     "output_type": "display_data"
    },
    {
     "name": "stdout",
     "output_type": "stream",
     "text": [
      "p-value = 0.9881\n"
     ]
    }
   ],
   "source": [
    "# test M and F samples\n",
    "male = df.temperature[df.gender == 'M']\n",
    "female = df.temperature[df.gender == 'F']\n",
    "diff = np.mean(male)-np.mean(female)\n",
    "# graphically\n",
    "# Create and plot ECDFs from original data\n",
    "x_1, y_1 = ecdf(male)\n",
    "x_2, y_2 = ecdf(female)\n",
    "_ = plt.plot(x_1, y_1, marker='.', linestyle='none', color='red')\n",
    "_ = plt.plot(x_2, y_2, marker='.', linestyle='none', color='blue')\n",
    "# Label axes, set margin, and show plot\n",
    "plt.margins(0.02)\n",
    "_ = plt.xlabel('temperature')\n",
    "_ = plt.ylabel('ECDF')\n",
    "_ = plt.legend(('male', 'female'), loc='lower right')\n",
    "plt.show()\n",
    "#the graph shows that female temperature is higher than male temperature\n",
    "\n",
    "#I use bs method to investigate whether the mean of temperature between male and female is equaled or not\n",
    "# testing\n",
    "def diff_of_means(data_1, data_2):\n",
    "    \"\"\"Difference in means of two arrays.\"\"\"\n",
    "    diff = np.mean(data_1)-np.mean(data_2)\n",
    "    return diff\n",
    "diff = diff_of_means(male,female)\n",
    "bs_replicates = np.empty(10000)\n",
    "for i in range(10000):\n",
    "    # Generate bootstrap sample\n",
    "    bs_sample = np.random.choice(df.temperature, size=len(df.temperature))\n",
    "    # Compute replicate\n",
    "    bs_replicates[i] = diff_of_means(bs_sample[:len(male)],\n",
    "                                     bs_sample[len(male):])\n",
    "# Compute and print p-value: p\n",
    "p = np.sum(bs_replicates >= diff) / 10000\n",
    "print('p-value =', p)\n",
    "#our test suggests that there is a high chance that temperature between male and female is not equaled. "
   ]
  },
  {
   "cell_type": "code",
   "execution_count": null,
   "metadata": {},
   "outputs": [],
   "source": []
  }
 ],
 "metadata": {
  "kernelspec": {
   "display_name": "Python 3",
   "language": "python",
   "name": "python3"
  },
  "language_info": {
   "codemirror_mode": {
    "name": "ipython",
    "version": 3
   },
   "file_extension": ".py",
   "mimetype": "text/x-python",
   "name": "python",
   "nbconvert_exporter": "python",
   "pygments_lexer": "ipython3",
   "version": "3.6.4"
  }
 },
 "nbformat": 4,
 "nbformat_minor": 1
}
