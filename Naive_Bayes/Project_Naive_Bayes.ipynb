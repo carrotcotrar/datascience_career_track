{
 "cells": [
  {
   "cell_type": "markdown",
   "metadata": {},
   "source": [
    "# Basic Text Classification with Naive Bayes\n"
   ]
  },
  {
   "cell_type": "code",
   "execution_count": 1,
   "metadata": {},
   "outputs": [],
   "source": [
    "%matplotlib inline\n",
    "import numpy as np\n",
    "import scipy as sp\n",
    "import matplotlib as mpl\n",
    "import matplotlib.cm as cm\n",
    "import matplotlib.pyplot as plt\n",
    "import pandas as pd\n",
    "import seaborn as sns\n",
    "from six.moves import range\n",
    "\n",
    "# Setup Pandas\n",
    "pd.set_option('display.width', 500)\n",
    "pd.set_option('display.max_columns', 100)\n",
    "pd.set_option('display.notebook_repr_html', True)\n",
    "\n",
    "# Setup Seaborn\n",
    "sns.set_style(\"whitegrid\")\n",
    "sns.set_context(\"poster\")"
   ]
  },
  {
   "cell_type": "markdown",
   "metadata": {},
   "source": [
    "## Rotten Tomatoes Dataset"
   ]
  },
  {
   "cell_type": "code",
   "execution_count": 2,
   "metadata": {
    "scrolled": true
   },
   "outputs": [
    {
     "data": {
      "text/html": [
       "<div>\n",
       "<style scoped>\n",
       "    .dataframe tbody tr th:only-of-type {\n",
       "        vertical-align: middle;\n",
       "    }\n",
       "\n",
       "    .dataframe tbody tr th {\n",
       "        vertical-align: top;\n",
       "    }\n",
       "\n",
       "    .dataframe thead th {\n",
       "        text-align: right;\n",
       "    }\n",
       "</style>\n",
       "<table border=\"1\" class=\"dataframe\">\n",
       "  <thead>\n",
       "    <tr style=\"text-align: right;\">\n",
       "      <th></th>\n",
       "      <th>critic</th>\n",
       "      <th>fresh</th>\n",
       "      <th>imdb</th>\n",
       "      <th>publication</th>\n",
       "      <th>quote</th>\n",
       "      <th>review_date</th>\n",
       "      <th>rtid</th>\n",
       "      <th>title</th>\n",
       "    </tr>\n",
       "  </thead>\n",
       "  <tbody>\n",
       "    <tr>\n",
       "      <th>1</th>\n",
       "      <td>Derek Adams</td>\n",
       "      <td>fresh</td>\n",
       "      <td>114709</td>\n",
       "      <td>Time Out</td>\n",
       "      <td>So ingenious in concept, design and execution ...</td>\n",
       "      <td>2009-10-04</td>\n",
       "      <td>9559</td>\n",
       "      <td>Toy story</td>\n",
       "    </tr>\n",
       "    <tr>\n",
       "      <th>2</th>\n",
       "      <td>Richard Corliss</td>\n",
       "      <td>fresh</td>\n",
       "      <td>114709</td>\n",
       "      <td>TIME Magazine</td>\n",
       "      <td>The year's most inventive comedy.</td>\n",
       "      <td>2008-08-31</td>\n",
       "      <td>9559</td>\n",
       "      <td>Toy story</td>\n",
       "    </tr>\n",
       "    <tr>\n",
       "      <th>3</th>\n",
       "      <td>David Ansen</td>\n",
       "      <td>fresh</td>\n",
       "      <td>114709</td>\n",
       "      <td>Newsweek</td>\n",
       "      <td>A winning animated feature that has something ...</td>\n",
       "      <td>2008-08-18</td>\n",
       "      <td>9559</td>\n",
       "      <td>Toy story</td>\n",
       "    </tr>\n",
       "    <tr>\n",
       "      <th>4</th>\n",
       "      <td>Leonard Klady</td>\n",
       "      <td>fresh</td>\n",
       "      <td>114709</td>\n",
       "      <td>Variety</td>\n",
       "      <td>The film sports a provocative and appealing st...</td>\n",
       "      <td>2008-06-09</td>\n",
       "      <td>9559</td>\n",
       "      <td>Toy story</td>\n",
       "    </tr>\n",
       "    <tr>\n",
       "      <th>5</th>\n",
       "      <td>Jonathan Rosenbaum</td>\n",
       "      <td>fresh</td>\n",
       "      <td>114709</td>\n",
       "      <td>Chicago Reader</td>\n",
       "      <td>An entertaining computer-generated, hyperreali...</td>\n",
       "      <td>2008-03-10</td>\n",
       "      <td>9559</td>\n",
       "      <td>Toy story</td>\n",
       "    </tr>\n",
       "  </tbody>\n",
       "</table>\n",
       "</div>"
      ],
      "text/plain": [
       "               critic  fresh    imdb     publication                                              quote review_date  rtid      title\n",
       "1         Derek Adams  fresh  114709        Time Out  So ingenious in concept, design and execution ...  2009-10-04  9559  Toy story\n",
       "2     Richard Corliss  fresh  114709   TIME Magazine                  The year's most inventive comedy.  2008-08-31  9559  Toy story\n",
       "3         David Ansen  fresh  114709        Newsweek  A winning animated feature that has something ...  2008-08-18  9559  Toy story\n",
       "4       Leonard Klady  fresh  114709         Variety  The film sports a provocative and appealing st...  2008-06-09  9559  Toy story\n",
       "5  Jonathan Rosenbaum  fresh  114709  Chicago Reader  An entertaining computer-generated, hyperreali...  2008-03-10  9559  Toy story"
      ]
     },
     "execution_count": 2,
     "metadata": {},
     "output_type": "execute_result"
    }
   ],
   "source": [
    "critics = pd.read_csv('./critics.csv')\n",
    "#let's drop rows with missing quotes\n",
    "critics = critics[~critics.quote.isnull()]\n",
    "critics.head()"
   ]
  },
  {
   "cell_type": "code",
   "execution_count": 3,
   "metadata": {},
   "outputs": [
    {
     "name": "stdout",
     "output_type": "stream",
     "text": [
      "<class 'pandas.core.frame.DataFrame'>\n",
      "Int64Index: 15561 entries, 1 to 27616\n",
      "Data columns (total 8 columns):\n",
      "critic         14792 non-null object\n",
      "fresh          15561 non-null object\n",
      "imdb           15561 non-null int64\n",
      "publication    15561 non-null object\n",
      "quote          15561 non-null object\n",
      "review_date    15561 non-null object\n",
      "rtid           15561 non-null int64\n",
      "title          15561 non-null object\n",
      "dtypes: int64(2), object(6)\n",
      "memory usage: 1.1+ MB\n"
     ]
    }
   ],
   "source": [
    "critics.info()"
   ]
  },
  {
   "cell_type": "markdown",
   "metadata": {},
   "source": [
    "### Explore"
   ]
  },
  {
   "cell_type": "code",
   "execution_count": 4,
   "metadata": {},
   "outputs": [
    {
     "name": "stdout",
     "output_type": "stream",
     "text": [
      "Number of reviews: 15561\n",
      "Number of critics: 623\n",
      "Number of movies:  1921\n",
      "Number of movies:  1921\n",
      "Number of classifier:  3\n"
     ]
    },
    {
     "data": {
      "text/plain": [
       "array(['fresh', 'rotten', 'none'], dtype=object)"
      ]
     },
     "execution_count": 4,
     "metadata": {},
     "output_type": "execute_result"
    }
   ],
   "source": [
    "n_reviews = len(critics)\n",
    "n_movies = critics.rtid.unique().size\n",
    "n_critics = critics.critic.unique().size\n",
    "n_movie_n = critics.title.unique().size\n",
    "\n",
    "print(\"Number of reviews: {:d}\".format(n_reviews))\n",
    "print(\"Number of critics: {:d}\".format(n_critics))\n",
    "print(\"Number of movies:  {:d}\".format(n_movies))\n",
    "print(\"Number of movies:  {:d}\".format(n_movie_n))\n",
    "print(\"Number of classifier:  {:d}\".format(critics.fresh.unique().size))\n",
    "critics.fresh.unique()"
   ]
  },
  {
   "cell_type": "code",
   "execution_count": 5,
   "metadata": {
    "scrolled": true
   },
   "outputs": [
    {
     "data": {
      "image/png": "[encoded data removed]",
      "text/plain": [
       "<matplotlib.figure.Figure at 0xa6174b9e80>"
      ]
     },
     "metadata": {},
     "output_type": "display_data"
    }
   ],
   "source": [
    "df = critics.copy()\n",
    "df['fresh'] = df.fresh == 'fresh' # maniputate data into 1,0 (fresh, not fresh)\n",
    "grp = df.groupby('critic')\n",
    "counts = grp.critic.count()  # number of reviews by each critic\n",
    "means = grp.fresh.mean()     # average freshness for each critic\n",
    "\n",
    "means[counts > 100].hist(bins=10, edgecolor='w', lw=1) # using means of critic who have more than 100 reviews\n",
    "plt.xlabel(\"Average Rating per critic\")\n",
    "plt.ylabel(\"Number of Critics\")\n",
    "plt.yticks([0, 2, 4, 6, 8, 10]);"
   ]
  },
  {
   "cell_type": "markdown",
   "metadata": {},
   "source": [
    "It seems like the majority of average rating per critic is above 0.6 which can be interpreted that there is more 'fresh' rating than 'rotten' and 'none' rating. However, the critic cannot be too generous about their review,so the average rating per critic drops dramatically after 0.6. From my understanding, there may be a certain 'fresh' rating benchmark of 0.6 for each critic.     "
   ]
  },
  {
   "cell_type": "markdown",
   "metadata": {},
   "source": [
    "## The Vector Space Model and a Search Engine"
   ]
  },
  {
   "cell_type": "markdown",
   "metadata": {},
   "source": [
    "### In Code"
   ]
  },
  {
   "cell_type": "code",
   "execution_count": 6,
   "metadata": {},
   "outputs": [
    {
     "name": "stdout",
     "output_type": "stream",
     "text": [
      "Original text is\n",
      "Hop on pop\n",
      "Hop off pop\n",
      "Hop Hop hop\n",
      "\n",
      "Transformed text vector is \n",
      "[[1 0 1 1]\n",
      " [1 1 0 1]\n",
      " [3 0 0 0]]\n",
      "\n",
      "Words for each feature:\n",
      "['hop', 'off', 'on', 'pop']\n"
     ]
    }
   ],
   "source": [
    "from sklearn.feature_extraction.text import CountVectorizer\n",
    "\n",
    "text = ['Hop on pop', 'Hop off pop', 'Hop Hop hop']\n",
    "print(\"Original text is\\n{}\".format('\\n'.join(text)))\n",
    "\n",
    "vectorizer = CountVectorizer(min_df=0)\n",
    "\n",
    "# call `fit` to build the vocabulary\n",
    "vectorizer.fit(text)\n",
    "\n",
    "# call `transform` to convert text to a bag of words\n",
    "x = vectorizer.transform(text)\n",
    "\n",
    "# CountVectorizer uses a sparse array to save memory, but it's easier in this assignment to \n",
    "# convert back to a \"normal\" numpy array\n",
    "x = x.toarray()\n",
    "\n",
    "print(\"\")\n",
    "print(\"Transformed text vector is \\n{}\".format(x))\n",
    "\n",
    "# `get_feature_names` tracks which word is associated with each column of the transformed x\n",
    "print(\"\")\n",
    "print(\"Words for each feature:\")\n",
    "print(vectorizer.get_feature_names())\n",
    "\n",
    "# Notice that the bag of words treatment doesn't preserve information about the *order* of words, \n",
    "# just their frequency"
   ]
  },
  {
   "cell_type": "code",
   "execution_count": 7,
   "metadata": {},
   "outputs": [],
   "source": [
    "def make_xy(critics, vectorizer=None):\n",
    "    #Your code here    \n",
    "    if vectorizer is None:\n",
    "        vectorizer = CountVectorizer()\n",
    "    X = vectorizer.fit_transform(critics.quote)\n",
    "    X = X.tocsc()  # some versions of sklearn return COO format\n",
    "    y = (critics.fresh == 'fresh').values.astype(np.int)\n",
    "    return X, y\n",
    "X, y = make_xy(critics)"
   ]
  },
  {
   "cell_type": "markdown",
   "metadata": {},
   "source": [
    "## Naive Bayes"
   ]
  },
  {
   "cell_type": "code",
   "execution_count": 8,
   "metadata": {},
   "outputs": [
    {
     "name": "stdout",
     "output_type": "stream",
     "text": [
      "score of test data:  0.781804\n",
      "score of train data:  0.920394\n"
     ]
    },
    {
     "name": "stderr",
     "output_type": "stream",
     "text": [
      "C:\\Users\\Administrator\\Anaconda3\\lib\\site-packages\\sklearn\\cross_validation.py:41: DeprecationWarning: This module was deprecated in version 0.18 in favor of the model_selection module into which all the refactored classes and functions are moved. Also note that the interface of the new CV iterators are different from that of this module. This module will be removed in 0.20.\n",
      "  \"This module will be removed in 0.20.\", DeprecationWarning)\n"
     ]
    }
   ],
   "source": [
    "from sklearn.naive_bayes import MultinomialNB\n",
    "from sklearn.cross_validation import train_test_split\n",
    "xtrain, xtest, ytrain, ytest = train_test_split(X, y)\n",
    "clf = MultinomialNB().fit(xtrain, ytrain)\n",
    "print  (\"score of test data:  {:f}\".format(clf.score(xtest, ytest)))\n",
    "print  (\"score of train data:  {:f}\".format(clf.score(xtrain, ytrain)))"
   ]
  },
  {
   "cell_type": "markdown",
   "metadata": {},
   "source": [
    "The result looks good with 76 % of accuracy"
   ]
  },
  {
   "cell_type": "markdown",
   "metadata": {},
   "source": [
    "# CDF"
   ]
  },
  {
   "cell_type": "code",
   "execution_count": 9,
   "metadata": {},
   "outputs": [
    {
     "data": {
      "text/plain": [
       "<matplotlib.lines.Line2D at 0xa6179a7438>"
      ]
     },
     "execution_count": 9,
     "metadata": {},
     "output_type": "execute_result"
    },
    {
     "data": {
      "image/png": "[encoded data removed]",
      "text/plain": [
       "<matplotlib.figure.Figure at 0xa617b8c4a8>"
      ]
     },
     "metadata": {},
     "output_type": "display_data"
    }
   ],
   "source": [
    "Xmat = X.toarray()\n",
    "nDocs = Xmat.shape[0]\n",
    "nWords = Xmat.shape[1]\n",
    "DocFreq = [0]*nWords\n",
    "for d in np.arange(nDocs):\n",
    "    DocFreq = DocFreq + (Xmat[d] != 0)\n",
    "\n",
    "# evaluate the histogram\n",
    "values, base = np.histogram(DocFreq, bins=DocFreq.max())\n",
    "#evaluate the cumulative\n",
    "cumulative = np.cumsum(values)\n",
    "# plot the cumulative function\n",
    "plt.semilogx(base[:-1], 100*cumulative/nWords, c='blue')\n",
    "plt.xlabel(\"Document count, x\")\n",
    "plt.ylabel(\"% of words appearing less than x times\")\n",
    "plt.scatter(5, 76.5, c=\"red\", s=200)\n",
    "plt.axvline(x=2)"
   ]
  },
  {
   "cell_type": "markdown",
   "metadata": {},
   "source": [
    "\n",
    "Issues I am struggling with: The nature/shape of the curve depends on what value of bins (number of bins) is chosen. I used the maximum value of the document frequency as number of bins here. Based on this, there are about 43% of words that have document count of at least 1. So, going from 0 to 1, there is 43% increase, whereas going from 1 to 2 (vertical line), there is about 15% increase. So, the steepest increase is for the first point. Hence we can set min_df to be 0.0. For the max_df, however, we can set its value to be 1000/(number of documents) becasue there are about 99.9% of the words that have document count of 1000 or less. So, max_df = 1000/15561 = 0.0643.\n",
    "\n",
    "The parameter $\\alpha$ is chosen to be a small value that simply avoids having zeros in the probability computations. This value can sometimes be chosen arbitrarily with domain expertise, but we will use K-fold cross validation. In K-fold cross-validation, we divide the data into $K$ non-overlapping parts. We train on $K-1$ of the folds and test on the remaining fold. We then iterate, so that each fold serves as the test fold exactly once. The function `cv_score` performs the K-fold cross-validation algorithm for us, but we need to pass a function that measures the performance of the algorithm on each fold. "
   ]
  },
  {
   "cell_type": "code",
   "execution_count": 13,
   "metadata": {},
   "outputs": [],
   "source": [
    "from sklearn.model_selection import KFold\n",
    "def cv_score(clf, X, y, scorefunc):\n",
    "    result = 0.\n",
    "    nfold = 5\n",
    "    for train, test in KFold(nfold).split(X): # split data into train/test groups, 5 times\n",
    "        clf.fit(X[train], y[train]) # fit the classifier, passed is as clf.\n",
    "        result += scorefunc(clf, X[test], y[test]) # evaluate score function on held-out data\n",
    "    return result / nfold # average"
   ]
  },
  {
   "cell_type": "markdown",
   "metadata": {},
   "source": [
    "We use the log-likelihood as the score here in `scorefunc`. The higher the log-likelihood, the better. Indeed, what we do in `cv_score` above is to implement the cross-validation part of `GridSearchCV`.\n",
    "\n",
    "The custom scoring function `scorefunc` allows us to use different metrics depending on the decision risk we care about (precision, accuracy, profit etc.) directly on the validation set. You will often find people using `roc_auc`, precision, recall, or `F1-score` as the scoring function."
   ]
  },
  {
   "cell_type": "code",
   "execution_count": 14,
   "metadata": {},
   "outputs": [],
   "source": [
    "def log_likelihood(clf, x, y):\n",
    "    prob = clf.predict_log_proba(x)\n",
    "    rotten = y == 0\n",
    "    fresh = ~rotten\n",
    "    return prob[rotten, 0].sum() + prob[fresh, 1].sum()"
   ]
  },
  {
   "cell_type": "markdown",
   "metadata": {},
   "source": [
    "We'll cross-validate over the regularization parameter $\\alpha$."
   ]
  },
  {
   "cell_type": "markdown",
   "metadata": {},
   "source": [
    "Let's set up the train and test masks first, and then we can run the cross-validation procedure."
   ]
  },
  {
   "cell_type": "code",
   "execution_count": 15,
   "metadata": {},
   "outputs": [
    {
     "name": "stderr",
     "output_type": "stream",
     "text": [
      "C:\\Users\\Administrator\\Anaconda3\\lib\\site-packages\\sklearn\\model_selection\\_split.py:2026: FutureWarning: From version 0.21, test_size will always complement train_size unless both are specified.\n",
      "  FutureWarning)\n"
     ]
    }
   ],
   "source": [
    "from sklearn.model_selection import train_test_split\n",
    "_, itest = train_test_split(range(critics.shape[0]), train_size=0.7)\n",
    "mask = np.zeros(critics.shape[0], dtype=np.bool)\n",
    "mask[itest] = True"
   ]
  },
  {
   "cell_type": "code",
   "execution_count": 16,
   "metadata": {},
   "outputs": [
    {
     "data": {
      "image/png": "[encoded data removed]",
      "text/plain": [
       "<matplotlib.figure.Figure at 0xd44f14f710>"
      ]
     },
     "metadata": {},
     "output_type": "display_data"
    }
   ],
   "source": [
    "from sklearn.naive_bayes import MultinomialNB\n",
    "\n",
    "#the grid of parameters to search over\n",
    "alphas = [.1, 1, 5, 10, 50]\n",
    "best_min_df = 1\n",
    "\n",
    "#Find the best value for alpha and min_df, and the best classifier\n",
    "log_like = []\n",
    "best_alpha = 1\n",
    "maxscore=-np.inf\n",
    "for alpha in alphas:        \n",
    "    vectorizer = CountVectorizer(min_df=best_min_df)       \n",
    "    Xthis, ythis = make_xy(critics, vectorizer)\n",
    "    Xtrainthis = Xthis[mask]\n",
    "    ytrainthis = ythis[mask]\n",
    "    clf = MultinomialNB(alpha = alpha)\n",
    "    log_like.append(cv_score(clf,Xtrainthis,ytrainthis,log_likelihood))\n",
    "plt.plot(alphas, log_like, '-o')\n",
    "plt.xlabel('alphas')\n",
    "plt.ylabel('Log_like')\n",
    "plt.xticks(alphas)\n",
    "plt.show()  "
   ]
  },
  {
   "cell_type": "code",
   "execution_count": 17,
   "metadata": {},
   "outputs": [
    {
     "name": "stdout",
     "output_type": "stream",
     "text": [
      "alpha: 1\n"
     ]
    }
   ],
   "source": [
    "print(\"alpha: {}\".format(1))"
   ]
  },
  {
   "cell_type": "markdown",
   "metadata": {},
   "source": [
    "# Turning hyperparameter"
   ]
  },
  {
   "cell_type": "code",
   "execution_count": 18,
   "metadata": {},
   "outputs": [
    {
     "name": "stdout",
     "output_type": "stream",
     "text": [
      "Accuracy on training data: 0.923110\n",
      "Accuracy on test data:     0.729251\n"
     ]
    }
   ],
   "source": [
    "vectorizer = CountVectorizer(min_df=best_min_df)\n",
    "X, y = make_xy(critics, vectorizer)\n",
    "xtrain=X[mask]\n",
    "ytrain=y[mask]\n",
    "xtest=X[~mask]\n",
    "ytest=y[~mask]\n",
    "\n",
    "clf = MultinomialNB(alpha=best_alpha).fit(xtrain, ytrain)\n",
    "\n",
    "training_accuracy = clf.score(xtrain, ytrain)\n",
    "test_accuracy = clf.score(xtest, ytest)\n",
    "\n",
    "print(\"Accuracy on training data: {:2f}\".format(training_accuracy))\n",
    "print(\"Accuracy on test data:     {:2f}\".format(test_accuracy))"
   ]
  },
  {
   "cell_type": "markdown",
   "metadata": {},
   "source": [
    "# Appearently, the turning model does not improve any prediction. "
   ]
  },
  {
   "cell_type": "code",
   "execution_count": 19,
   "metadata": {},
   "outputs": [
    {
     "name": "stdout",
     "output_type": "stream",
     "text": [
      "[[1881 2375]\n",
      " [ 574 6062]]\n"
     ]
    }
   ],
   "source": [
    "from sklearn.metrics import confusion_matrix\n",
    "print(confusion_matrix(ytest, clf.predict(xtest)))"
   ]
  },
  {
   "cell_type": "markdown",
   "metadata": {},
   "source": [
    "# What are the strongly predictive features?"
   ]
  },
  {
   "cell_type": "code",
   "execution_count": 20,
   "metadata": {},
   "outputs": [
    {
     "name": "stdout",
     "output_type": "stream",
     "text": [
      "Good words\t     P(fresh | word)\n",
      "         intelligent 0.97\n",
      "         achievement 0.95\n",
      "             delight 0.95\n",
      "              moving 0.94\n",
      "          remarkable 0.94\n",
      "              superb 0.94\n",
      "               witty 0.94\n",
      "             success 0.94\n",
      "          represents 0.94\n",
      "             intense 0.93\n",
      "Bad words\t     P(fresh | word)\n",
      "            confused 0.13\n",
      "             muddled 0.13\n",
      "       unfortunately 0.13\n",
      "             unfunny 0.11\n",
      "                dumb 0.11\n",
      "               tired 0.10\n",
      "          uninspired 0.09\n",
      "              stupid 0.08\n",
      "                lame 0.08\n",
      "               bland 0.07\n"
     ]
    }
   ],
   "source": [
    "words = np.array(vectorizer.get_feature_names())\n",
    "\n",
    "x = np.eye(xtest.shape[1])\n",
    "probs = clf.predict_log_proba(x)[:, 0]\n",
    "ind = np.argsort(probs)\n",
    "\n",
    "good_words = words[ind[:10]]\n",
    "bad_words = words[ind[-10:]]\n",
    "\n",
    "good_prob = probs[ind[:10]]\n",
    "bad_prob = probs[ind[-10:]]\n",
    "\n",
    "print(\"Good words\\t     P(fresh | word)\")\n",
    "for w, p in zip(good_words, good_prob):\n",
    "    print(\"{:>20}\".format(w), \"{:.2f}\".format(1 - np.exp(p)))\n",
    "    \n",
    "print(\"Bad words\\t     P(fresh | word)\")\n",
    "for w, p in zip(bad_words, bad_prob):\n",
    "    print(\"{:>20}\".format(w), \"{:.2f}\".format(1 - np.exp(p)))"
   ]
  },
  {
   "cell_type": "markdown",
   "metadata": {},
   "source": [
    "The above exercise is an example of *feature selection*. There are many other feature selection methods. A list of feature selection methods available in `sklearn` is [here](http://scikit-learn.org/stable/modules/classes.html#module-sklearn.feature_selection). The most common feature selection technique for text mining is the chi-squared $\\left( \\chi^2 \\right)$ [method](http://nlp.stanford.edu/IR-book/html/htmledition/feature-selectionchi2-feature-selection-1.html)."
   ]
  },
  {
   "cell_type": "markdown",
   "metadata": {},
   "source": [
    "## Predict a new review "
   ]
  },
  {
   "cell_type": "code",
   "execution_count": 48,
   "metadata": {},
   "outputs": [
    {
     "data": {
      "text/plain": [
       "array([[0.8427011, 0.1572989]])"
      ]
     },
     "execution_count": 48,
     "metadata": {},
     "output_type": "execute_result"
    }
   ],
   "source": [
    "clf.predict_proba(vectorizer.transform(['This movie is not remarkable, touching, or superb in any way']))"
   ]
  },
  {
   "cell_type": "markdown",
   "metadata": {},
   "source": [
    "the result is not as predict because in the quote there is a lot of positive word "
   ]
  },
  {
   "cell_type": "markdown",
   "metadata": {},
   "source": [
    "# Enrichment"
   ]
  },
  {
   "cell_type": "code",
   "execution_count": 21,
   "metadata": {},
   "outputs": [],
   "source": [
    "from sklearn.model_selection import GridSearchCV\n",
    "import sklearn.metrics as mt\n",
    "from sklearn.feature_selection import SelectKBest\n",
    "from sklearn.feature_selection import chi2\n",
    "from sklearn.pipeline import Pipeline\n",
    "\n",
    "def my_model(data, vectorizer, nkbest, mask, clf, params_for_opt, scoring, cv, selectkbest):\n",
    "    Xt, yt = make_xy(data, vectorizer)\n",
    "    if selectkbest:\n",
    "        Xt_new = SelectKBest(chi2, k=nkbest).fit_transform(Xt, yt)\n",
    "    else:\n",
    "        Xt_new = Xt\n",
    "    x_train=Xt_new[mask]\n",
    "    y_train=yt[mask]\n",
    "    x_test=Xt_new[~mask]\n",
    "    y_test=yt[~mask]\n",
    "\n",
    "    clf_best = GridSearchCV(estimator = clf, param_grid = params_for_opt, scoring = scoring, cv=cv)\n",
    "    clf_best.fit(x_train, y_train)\n",
    "    print(\"best parameters: \", clf_best.best_params_)\n",
    "    print(\"\\t\")\n",
    "    y_train_predict = clf_best.predict(x_train)\n",
    "    y_test_predict = clf_best.predict(x_test)\n",
    "    training_accuracy = mt.accuracy_score(y_train, y_train_predict)\n",
    "    test_accuracy = mt.accuracy_score(y_test, y_test_predict)\n",
    "\n",
    "    training_f1 = mt.f1_score(y_train, y_train_predict)\n",
    "    test_f1 = mt.f1_score(y_test, y_test_predict)\n",
    "\n",
    "    fpr, tpr, thresholds = mt.roc_curve(y_train, y_train_predict)\n",
    "    training_auc = mt.auc(fpr, tpr)\n",
    "\n",
    "    fpr1, tpr1, thresholds1 = mt.roc_curve(y_test, y_test_predict)\n",
    "    test_auc = mt.auc(fpr1, tpr1)\n",
    "\n",
    "    print(\"Accuracy\")\n",
    "    print(\"Training: {:2f}\".format(training_accuracy))\n",
    "    print(\"Test:     {:2f}\".format(test_accuracy))\n",
    "    print(\"\\t\")\n",
    "    print(\"F1-score\")\n",
    "    print(\"Training: {:2f}\".format(training_f1))\n",
    "    print(\"Test:     {:2f}\".format(test_f1))\n",
    "    print(\"\\t\")\n",
    "    print(\"AUC\")\n",
    "    print(\"Training: {:2f}\".format(training_auc))\n",
    "    print(\"Test:     {:2f}\".format(test_auc))\n",
    "    \n",
    "    return clf_best"
   ]
  },
  {
   "cell_type": "code",
   "execution_count": 22,
   "metadata": {},
   "outputs": [
    {
     "name": "stdout",
     "output_type": "stream",
     "text": [
      "best parameters:  {'alpha': 1}\n",
      "\t\n",
      "Accuracy\n",
      "Training: 0.998287\n",
      "Test:     0.736504\n",
      "\t\n",
      "F1-score\n",
      "Training: 0.998596\n",
      "Test:     0.804096\n",
      "\t\n",
      "AUC\n",
      "Training: 0.997806\n",
      "Test:     0.694261\n"
     ]
    }
   ],
   "source": [
    "best_model = my_model(data=critics, vectorizer=CountVectorizer(ngram_range=(1,3), min_df=0.0, max_df=1000),\n",
    "                      nkbest = 22000,\n",
    "                      mask=mask, \n",
    "                      clf=MultinomialNB(), \n",
    "                      params_for_opt = {'alpha':[0.001, 0.005, 0.01, 0.02, 0.05, 0.1, 1]},\n",
    "                      scoring='roc_auc', \n",
    "                      cv=5, selectkbest=False)"
   ]
  },
  {
   "cell_type": "markdown",
   "metadata": {},
   "source": [
    "Having n-gram with n>2 tremendously helps in improving the train accuracy but the test accuranct remains same. Lets try to select only some features (rather than all) and see if that improves the accuracy on test data set."
   ]
  },
  {
   "cell_type": "code",
   "execution_count": 23,
   "metadata": {},
   "outputs": [
    {
     "name": "stdout",
     "output_type": "stream",
     "text": [
      "best parameters:  {'alpha': 0.1}\n",
      "\t\n",
      "Accuracy\n",
      "Training: 0.973013\n",
      "Test:     0.860723\n",
      "\t\n",
      "F1-score\n",
      "Training: 0.977972\n",
      "Test:     0.888693\n",
      "\t\n",
      "AUC\n",
      "Training: 0.970272\n",
      "Test:     0.846219\n"
     ]
    }
   ],
   "source": [
    "best_model = my_model(data=critics, vectorizer=CountVectorizer(ngram_range=(1,3), min_df=0.0, max_df=1000),\n",
    "                      nkbest = 22000,\n",
    "                      mask=mask, \n",
    "                      clf=MultinomialNB(), \n",
    "                      params_for_opt = {'alpha':[0.001, 0.005, 0.01, 0.02, 0.05, 0.1, 1]},\n",
    "                      scoring='roc_auc', \n",
    "                      cv=5, selectkbest=True)"
   ]
  },
  {
   "cell_type": "markdown",
   "metadata": {},
   "source": [
    "\n",
    "\n",
    "Training accruacy has gone down but the test accuracy incresed from 0.77 to 0.91 by considering 22000 featues.\n",
    "\n",
    "Can we improve it even more by tokenizing the words to take care of punctuations?\n"
   ]
  },
  {
   "cell_type": "code",
   "execution_count": 24,
   "metadata": {},
   "outputs": [
    {
     "name": "stdout",
     "output_type": "stream",
     "text": [
      "best parameters:  {'alpha': 0.005}\n",
      "\t\n",
      "Accuracy\n",
      "Training: 0.974941\n",
      "Test:     0.876148\n",
      "\t\n",
      "F1-score\n",
      "Training: 0.979420\n",
      "Test:     0.899321\n",
      "\t\n",
      "AUC\n",
      "Training: 0.974022\n",
      "Test:     0.867262\n"
     ]
    }
   ],
   "source": [
    "from nltk.tokenize import word_tokenize\n",
    "from nltk.tokenize.regexp import wordpunct_tokenize\n",
    "best_model = my_model(data=critics, vectorizer=CountVectorizer(ngram_range=(1,3),\n",
    "                                                              analyzer = 'word',\n",
    "                                                 tokenizer=wordpunct_tokenize),\n",
    "                      nkbest = 22000,\n",
    "                      mask=mask, \n",
    "                      clf=MultinomialNB(), \n",
    "                      params_for_opt = {'alpha':[0.00001, 0.0005, 0.0001, 0.0002, 0.001, 0.005]},\n",
    "                      scoring='roc_auc', \n",
    "                      cv=5, selectkbest=True)"
   ]
  },
  {
   "cell_type": "markdown",
   "metadata": {},
   "source": [
    "\n",
    "\n",
    "Using a tokenizer slightly helps in improving test predictions.\n",
    "\n",
    "Lets now try to modify the above model by replacing the CountVectorizer with tfidfVectorizer and see if we get any improvements.\n"
   ]
  },
  {
   "cell_type": "code",
   "execution_count": 28,
   "metadata": {},
   "outputs": [
    {
     "name": "stdout",
     "output_type": "stream",
     "text": [
      "best parameters:  {'alpha': 0.005}\n",
      "\t\n",
      "Accuracy\n",
      "Training: 0.971300\n",
      "Test:     0.829324\n",
      "\t\n",
      "F1-score\n",
      "Training: 0.976968\n",
      "Test:     0.874587\n",
      "\t\n",
      "AUC\n",
      "Training: 0.963642\n",
      "Test:     0.788091\n"
     ]
    }
   ],
   "source": [
    "from sklearn.feature_extraction.text import TfidfVectorizer\n",
    "best_model = my_model(data=critics, vectorizer=TfidfVectorizer(ngram_range=(1,3),\n",
    "                                                              analyzer = 'word',\n",
    "                                                 tokenizer=wordpunct_tokenize),\n",
    "                      nkbest = 22000,\n",
    "                      mask=mask, \n",
    "                      clf=MultinomialNB(), \n",
    "                      params_for_opt = {'alpha':[0.00001, 0.0005, 0.0001, 0.0002, 0.001, 0.005]},\n",
    "                      scoring='roc_auc', \n",
    "                      cv=5, selectkbest=True)"
   ]
  },
  {
   "cell_type": "markdown",
   "metadata": {},
   "source": [
    "\n",
    "\n",
    "Using tfidf weighted vectorizer gives worse predictions. So lets stick to CountVectorizer with wordpunct_tokenize tokenizer.\n",
    "\n",
    "Let's now use a different classfier, i,e, SVM classifier.\n"
   ]
  },
  {
   "cell_type": "code",
   "execution_count": 27,
   "metadata": {},
   "outputs": [
    {
     "name": "stdout",
     "output_type": "stream",
     "text": [
      "best parameters:  {'C': 1, 'class_weight': 'balanced', 'gamma': 0.1}\n",
      "\t\n",
      "Accuracy\n",
      "Training: 0.750482\n",
      "Test:     0.664341\n",
      "\t\n",
      "F1-score\n",
      "Training: 0.779231\n",
      "Test:     0.704255\n",
      "\t\n",
      "AUC\n",
      "Training: 0.758356\n",
      "Test:     0.666682\n"
     ]
    }
   ],
   "source": [
    "from sklearn.svm import SVC\n",
    "\n",
    "best_model = my_model(data=critics, vectorizer=CountVectorizer(ngram_range=(1,3),\n",
    "                                                              analyzer = 'word',\n",
    "                                                 tokenizer=wordpunct_tokenize),\n",
    "                      nkbest = 220,\n",
    "                      mask=mask, \n",
    "                      clf=SVC(), \n",
    "                      params_for_opt = {'C':[0.1, 1, 10],\n",
    "                                       'class_weight': [\"balanced\"],\n",
    "                                       'gamma': [0.1, 1, 10]},\n",
    "                      scoring='roc_auc', \n",
    "                      cv=5, selectkbest=True)"
   ]
  },
  {
   "cell_type": "markdown",
   "metadata": {},
   "source": [
    "\n",
    "\n",
    "Seems like SVM is also not a good option. So, whatever we tried so far, following is a list of things that give us the best result:\n",
    "\n",
    "Vectorizer: CountVectorizer()\n",
    "\n",
    "Classifier: MultinomialNB()\n",
    "\n",
    "ngram_range: (1,3)\n",
    "\n",
    "tokenizer: wordpunct_tokenize\n"
   ]
  }
 ],
 "metadata": {
  "kernelspec": {
   "display_name": "Python 3",
   "language": "python",
   "name": "python3"
  },
  "language_info": {
   "codemirror_mode": {
    "name": "ipython",
    "version": 3
   },
   "file_extension": ".py",
   "mimetype": "text/x-python",
   "name": "python",
   "nbconvert_exporter": "python",
   "pygments_lexer": "ipython3",
   "version": "3.6.4"
  }
 },
 "nbformat": 4,
 "nbformat_minor": 1
}
